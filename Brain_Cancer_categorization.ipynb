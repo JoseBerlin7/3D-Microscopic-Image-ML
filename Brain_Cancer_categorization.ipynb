{
  "nbformat": 4,
  "nbformat_minor": 0,
  "metadata": {
    "colab": {
      "provenance": [],
      "collapsed_sections": [
        "UQNBQBINzGSY",
        "_U2C_dTdxq6Y",
        "IkzrrLf1xw-N",
        "A_ZAojtIi6Q4"
      ],
      "gpuType": "T4",
      "mount_file_id": "1u13_anDoVUp4TlMnDbTMKeu_Un2qUQMl",
      "authorship_tag": "ABX9TyM+jUr43+y/C+msDFNMbU4T",
      "include_colab_link": true
    },
    "kernelspec": {
      "name": "python3",
      "display_name": "Python 3"
    },
    "language_info": {
      "name": "python"
    },
    "accelerator": "GPU"
  },
  "cells": [
    {
      "cell_type": "markdown",
      "metadata": {
        "id": "view-in-github",
        "colab_type": "text"
      },
      "source": [
        "<a href=\"https://colab.research.google.com/github/JoseBerlin7/3D-Microscopic-Image-ML/blob/main/Brain_Cancer_categorization.ipynb\" target=\"_parent\"><img src=\"https://colab.research.google.com/assets/colab-badge.svg\" alt=\"Open In Colab\"/></a>"
      ]
    },
    {
      "cell_type": "markdown",
      "source": [
        "#Brain tumour Image Analysis"
      ],
      "metadata": {
        "id": "kAZhkNp7xiYv"
      }
    },
    {
      "cell_type": "markdown",
      "source": [
        "## Dataset:\n",
        "Majeed, Ahmed & Salehpour, Pedram & Farzinvash, Leili & Pashazadeh, Saeid. (2024). Multi-Class Brain Lesion Classification Using Deep Transfer Learning With MobileNetV3. IEEE Access. PP. 1-1. 10.1109/ACCESS.2024.3413008."
      ],
      "metadata": {
        "id": "7ed3ryTtPHPe"
      }
    },
    {
      "cell_type": "markdown",
      "source": [
        "##Installing packages"
      ],
      "metadata": {
        "id": "UQNBQBINzGSY"
      }
    },
    {
      "cell_type": "code",
      "source": [
        "!pip install split-folders"
      ],
      "metadata": {
        "colab": {
          "base_uri": "https://localhost:8080/"
        },
        "id": "v6xpDMjWzJTQ",
        "outputId": "010c31b0-1cdb-4de4-c1ba-e2ad071a184a"
      },
      "execution_count": null,
      "outputs": [
        {
          "output_type": "stream",
          "name": "stdout",
          "text": [
            "Collecting split-folders\n",
            "  Downloading split_folders-0.5.1-py3-none-any.whl.metadata (6.2 kB)\n",
            "Downloading split_folders-0.5.1-py3-none-any.whl (8.4 kB)\n",
            "Installing collected packages: split-folders\n",
            "Successfully installed split-folders-0.5.1\n"
          ]
        }
      ]
    },
    {
      "cell_type": "markdown",
      "source": [
        "##Importing"
      ],
      "metadata": {
        "id": "_U2C_dTdxq6Y"
      }
    },
    {
      "cell_type": "code",
      "source": [
        "import os"
      ],
      "metadata": {
        "id": "zgzmySh-xggN"
      },
      "execution_count": 1,
      "outputs": []
    },
    {
      "cell_type": "code",
      "source": [
        "import splitfolders"
      ],
      "metadata": {
        "id": "SSUEFdvTzDnp"
      },
      "execution_count": null,
      "outputs": []
    },
    {
      "cell_type": "code",
      "source": [
        "from PIL import Image"
      ],
      "metadata": {
        "id": "wax2-RKPaRhe"
      },
      "execution_count": null,
      "outputs": []
    },
    {
      "cell_type": "code",
      "source": [
        "# For the DL model development\n",
        "import torch\n",
        "from torch import nn\n",
        "import torch.optim as optim\n",
        "from torchvision import datasets, transforms, models\n",
        "from torch.utils.data import DataLoader\n",
        "import torch.nn.functional as F"
      ],
      "metadata": {
        "id": "uy7U1H-s1gz5"
      },
      "execution_count": 2,
      "outputs": []
    },
    {
      "cell_type": "markdown",
      "source": [
        "##Data Handling"
      ],
      "metadata": {
        "id": "IkzrrLf1xw-N"
      }
    },
    {
      "cell_type": "code",
      "source": [
        "data_path = \"/content/drive/MyDrive/Colab Notebooks/NINS_Dataset\"\n",
        "all_data_labels = os.listdir(data_path)"
      ],
      "metadata": {
        "id": "gRB6nTDVx3HV"
      },
      "execution_count": null,
      "outputs": []
    },
    {
      "cell_type": "code",
      "source": [
        "print(len(all_data_labels))"
      ],
      "metadata": {
        "colab": {
          "base_uri": "https://localhost:8080/"
        },
        "id": "aWmbNSvpyqwV",
        "outputId": "58e98c2b-03f4-4bd0-ba4b-976393043bd0"
      },
      "execution_count": null,
      "outputs": [
        {
          "output_type": "stream",
          "name": "stdout",
          "text": [
            "38\n"
          ]
        }
      ]
    },
    {
      "cell_type": "code",
      "source": [
        "# Creating test and train data\n",
        "final_data_path = \"/content/drive/MyDrive/Colab Notebooks/Data\""
      ],
      "metadata": {
        "id": "Hk00BaJKyC6S"
      },
      "execution_count": null,
      "outputs": []
    },
    {
      "cell_type": "code",
      "source": [
        "splitfolders.ratio(data_path,output = final_data_path, seed = 1337, ratio=(0.8, 0.1, 0.1))"
      ],
      "metadata": {
        "id": "5AIsSUU0z0z-"
      },
      "execution_count": null,
      "outputs": []
    },
    {
      "cell_type": "markdown",
      "source": [
        "## Model development (using Simple CNN)"
      ],
      "metadata": {
        "id": "x-O1l0no4EfK"
      }
    },
    {
      "cell_type": "markdown",
      "source": [
        "###Augmenting data"
      ],
      "metadata": {
        "id": "A_ZAojtIi6Q4"
      }
    },
    {
      "cell_type": "code",
      "source": [
        "augmentations = transforms.Compose([\n",
        "    transforms.RandomHorizontalFlip(),\n",
        "    transforms.RandomRotation(30),\n",
        "    transforms.ColorJitter(brightness=0.5, contrast=0.5),\n",
        "    transforms.RandomResizedCrop(size=224, scale=(0.8, 1.0)),\n",
        "])"
      ],
      "metadata": {
        "id": "Drozv1IFYYa2"
      },
      "execution_count": 7,
      "outputs": []
    },
    {
      "cell_type": "code",
      "source": [
        "final_data_path = \"/content/drive/MyDrive/Colab Notebooks/Data/train\"\n",
        "all_folders = os.listdir(final_data_path)"
      ],
      "metadata": {
        "id": "YIySYICUYi4T"
      },
      "execution_count": 8,
      "outputs": []
    },
    {
      "cell_type": "code",
      "source": [
        "\n",
        "n_augmentations = 10 # No. of augmentations\n",
        "for folder in all_folders:\n",
        "  folder_path = os.path.join(final_data_path, folder)\n",
        "  print(f\"working on folder : {folder}\")\n",
        "  target_folder = os.path.join(\"/content/drive/MyDrive/Colab Notebooks/Data/train 1\", folder)\n",
        "  os.makedirs(target_folder, exist_ok=True)\n",
        "\n",
        "  for img_name in os.listdir(folder_path):\n",
        "      img_path = os.path.join(folder_path, img_name)\n",
        "      img = Image.open(img_path).convert('L')\n",
        "      base_name, ext = os.path.splitext(img_name)\n",
        "\n",
        "      for i in range(n_augmentations):\n",
        "          augmented_img = augmentations(img)\n",
        "          if isinstance(augmented_img, transforms.functional.Tensor):\n",
        "              augmented_img = transforms.ToPILImage()(augmented_img)\n",
        "          save_path = os.path.join(target_folder, f\"{base_name}_aug{i}{ext}\")\n",
        "          augmented_img.save(save_path)"
      ],
      "metadata": {
        "colab": {
          "base_uri": "https://localhost:8080/"
        },
        "id": "Ia3P5_kkYpai",
        "outputId": "92844e53-3188-45a5-cb7e-04d71d87dc42"
      },
      "execution_count": 15,
      "outputs": [
        {
          "output_type": "stream",
          "name": "stdout",
          "text": [
            "working on folder : Cerebral Hemorrhage\n"
          ]
        }
      ]
    },
    {
      "cell_type": "code",
      "source": [
        "for folder in all_folders:\n",
        "  folder_path = os.path.join(\"/content/drive/MyDrive/Colab Notebooks/Data/train 1\", folder)\n",
        "  print(f\"Category : {folder}   files : {len(os.listdir(folder_path))}\")"
      ],
      "metadata": {
        "colab": {
          "base_uri": "https://localhost:8080/"
        },
        "id": "LzwerS1jjnb0",
        "outputId": "370cd8cb-328c-47c8-a3e7-3b008d05483f"
      },
      "execution_count": 17,
      "outputs": [
        {
          "output_type": "stream",
          "name": "stdout",
          "text": [
            "Category : Cerebral Hemorrhage   files : 360\n",
            "Category : Stroke(infarct)   files : 6920\n",
            "Category : Microvascular ischemic change   files : 280\n",
            "Category : Stroke (Haemorrhage)   files : 4830\n",
            "Category : Obstructive Hydrocephalus   files : 600\n",
            "Category : White Matter Disease   files : 280\n",
            "Category : Small Vessel Diease Demyelination   files : 300\n",
            "Category : Stroke (Demyelination)   files : 300\n",
            "Category : small meningioma   files : 280\n",
            "Category : Postoperative encephalomalacia   files : 300\n",
            "Category : Post-operative Status with Small Hemorrhage   files : 300\n",
            "Category : pituitary tumor   files : 600\n",
            "Category : NMOSD  ADEM   files : 280\n",
            "Category : Normal   files : 13990\n",
            "Category : meningioma   files : 600\n",
            "Category : Mid triventricular hydrocephalus   files : 300\n",
            "Category : Malformation (Chiari I)   files : 300\n",
            "Category : Left Retro-orbital Haemangioma   files : 890\n",
            "Category : Ischemic change  demyelinating plaque   files : 300\n",
            "Category : Leukoencephalopathy with subcortical cysts   files : 300\n",
            "Category : Brain tumor - Recurrenceremnant of previous lesion   files : 910\n",
            "Category : Encephalomalacia with gliotic change   files : 600\n",
            "Category : Cerebral abscess   files : 280\n",
            "Category : Hemorrhagic collection   files : 300\n",
            "Category : demyelinating lesions   files : 300\n",
            "Category : Glioma   files : 600\n",
            "Category : cerebral venous sinus thrombosis   files : 600\n",
            "Category : Brain tumor operated with ventricular hemorrhage   files : 600\n",
            "Category : focal pachymeningitis   files : 280\n",
            "Category : Brain Tumor (Ependymoma)   files : 280\n",
            "Category : Brain Tumor   files : 600\n",
            "Category : Brain Infection   files : 300\n",
            "Category : Brain Atrophy   files : 2110\n",
            "Category : Brain tumor (Dermoid cyst craniopharyngioma)   files : 300\n",
            "Category : Brain Tumor (Hemangioblastoma  Pleomorphic xanthroastrocytoma  metastasis)   files : 590\n",
            "Category : Brain Infection with abscess   files : 600\n",
            "Category : Brain tumor (Astrocytoma Ganglioglioma)   files : 300\n"
          ]
        }
      ]
    },
    {
      "cell_type": "markdown",
      "source": [
        "### data prep"
      ],
      "metadata": {
        "id": "evUuM4d7ANy8"
      }
    },
    {
      "cell_type": "code",
      "source": [
        "# Data Transforms\n",
        "data_transforms = {\n",
        "    'train' : transforms.Compose([\n",
        "        transforms.Resize((224,224)),\n",
        "        transforms.Grayscale(num_output_channels=1),\n",
        "        transforms.ToTensor(),\n",
        "        transforms.Normalize([0.485], [0.229])\n",
        "    ]),\n",
        "    'val' : transforms.Compose([\n",
        "        transforms.Resize([224,224]),\n",
        "        transforms.Grayscale(num_output_channels=1),\n",
        "        transforms.ToTensor(),\n",
        "        transforms.Normalize([0.485], [0.229])\n",
        "    ]),\n",
        "    'test' : transforms.Compose([\n",
        "        transforms.Resize([224,224]),\n",
        "        transforms.Grayscale(num_output_channels=1),\n",
        "        transforms.ToTensor(),\n",
        "        transforms.Normalize([0.485], [0.229])\n",
        "    ]),\n",
        "}"
      ],
      "metadata": {
        "id": "plgf9YHe4O6G"
      },
      "execution_count": 47,
      "outputs": []
    },
    {
      "cell_type": "code",
      "source": [
        "final_data_path = \"/content/drive/MyDrive/Colab Notebooks/Data\"\n",
        "\n",
        "def is_valid_file(path):\n",
        "    return not os.path.basename(path).startswith('.')\n",
        "\n",
        "image_datasets = {\n",
        "    'train' : datasets.ImageFolder(root = f\"{final_data_path}/train 1/\", transform=data_transforms['train'], is_valid_file=is_valid_file),\n",
        "    'val' : datasets.ImageFolder(root = f\"{final_data_path}/val\", transform=data_transforms['val'], is_valid_file=is_valid_file),\n",
        "    'test' : datasets.ImageFolder(root = f\"{final_data_path}/test\", transform=data_transforms['test'], is_valid_file=is_valid_file)\n",
        "}"
      ],
      "metadata": {
        "id": "6bY0N3JJ9KeH"
      },
      "execution_count": 48,
      "outputs": []
    },
    {
      "cell_type": "code",
      "source": [
        "dataloaders = {\n",
        "    x : DataLoader(image_datasets[x], batch_size=256, shuffle= True, num_workers = 2, pin_memory=True)\n",
        "    for x in ['train', 'val', 'test']\n",
        "}"
      ],
      "metadata": {
        "id": "o062ZX_0ON7c"
      },
      "execution_count": 59,
      "outputs": []
    },
    {
      "cell_type": "code",
      "source": [
        "dataset_sizes = {x : len(image_datasets[x]) for x in ['train','val','test']}\n",
        "class_names = image_datasets['train'].classes"
      ],
      "metadata": {
        "id": "tKW5qnZoOVCn"
      },
      "execution_count": 60,
      "outputs": []
    },
    {
      "cell_type": "markdown",
      "source": [
        "### Defining the model"
      ],
      "metadata": {
        "id": "tMSN03_5AQXh"
      }
    },
    {
      "cell_type": "code",
      "source": [
        "class SimpleCNN(nn.Module):\n",
        "  def __init__(self, num_classes):\n",
        "    super(SimpleCNN, self).__init__()\n",
        "    self.conv1 = nn.Conv2d(1, 32, kernel_size = 3, padding=1)\n",
        "    self.pool = nn.MaxPool2d(2,2)\n",
        "    self.conv2 = nn.Conv2d(32, 64, kernel_size = 3, padding=1)\n",
        "    self.fc1 = nn.Linear(64 * 56 * 56, 128)\n",
        "    self.fc2 = nn.Linear(128, num_classes)\n",
        "\n",
        "  def forward(self, x):\n",
        "    x = self.pool(F.relu(self.conv1(x)))\n",
        "    x = self.pool(F.relu(self.conv2(x)))\n",
        "    x = x.view(x.size(0), -1)\n",
        "    x = F.relu(self.fc1(x))\n",
        "    x = self.fc2(x)\n",
        "    return x\n",
        "\n",
        "num_classes = len(class_names)\n",
        "model = SimpleCNN(num_classes)"
      ],
      "metadata": {
        "id": "M3vXm2wOAb8-"
      },
      "execution_count": 61,
      "outputs": []
    },
    {
      "cell_type": "markdown",
      "source": [
        "### Defining Loss functions"
      ],
      "metadata": {
        "id": "SJW2BKaOD9P9"
      }
    },
    {
      "cell_type": "code",
      "source": [
        "criterion = nn.CrossEntropyLoss()\n",
        "optimizer = optim.Adam(model.parameters(), lr=0.0001)"
      ],
      "metadata": {
        "id": "TJ9onJyqECYW"
      },
      "execution_count": 62,
      "outputs": []
    },
    {
      "cell_type": "markdown",
      "source": [
        "### Training the model"
      ],
      "metadata": {
        "id": "8ePA17InEKI9"
      }
    },
    {
      "cell_type": "code",
      "source": [
        "torch.cuda.is_available()"
      ],
      "metadata": {
        "colab": {
          "base_uri": "https://localhost:8080/"
        },
        "id": "FYveQi__OuBt",
        "outputId": "f7147718-8ec9-4f41-c0d2-7b7c4cf8d1f8"
      },
      "execution_count": 63,
      "outputs": [
        {
          "output_type": "execute_result",
          "data": {
            "text/plain": [
              "True"
            ]
          },
          "metadata": {},
          "execution_count": 63
        }
      ]
    },
    {
      "cell_type": "code",
      "source": [
        "device = torch.device(\"cuda\" if torch.cuda.is_available() else \"cpu\")\n",
        "model = model.to(device)"
      ],
      "metadata": {
        "id": "nAzGGJMPEPBO"
      },
      "execution_count": 64,
      "outputs": []
    },
    {
      "cell_type": "code",
      "source": [
        "n_epochs = 30"
      ],
      "metadata": {
        "id": "tnpbt8iTEfIG"
      },
      "execution_count": 65,
      "outputs": []
    },
    {
      "cell_type": "code",
      "source": [
        "for epoch in range(n_epochs):\n",
        "  model.train()\n",
        "  train_running_loss = 0.0\n",
        "  train_correct = 0\n",
        "  for inp, labels in dataloaders['train']:\n",
        "    inp, labels = inp.to(device), labels.to(device)\n",
        "\n",
        "    optimizer.zero_grad()\n",
        "    outputs = model(inp)\n",
        "    loss = criterion(outputs, labels)\n",
        "    loss.backward()\n",
        "    optimizer.step()\n",
        "\n",
        "    train_running_loss += loss.item()*inp.size(0)\n",
        "\n",
        "    _,pred = torch.max(outputs,1)\n",
        "    train_correct += torch.sum(pred == labels.data)\n",
        "\n",
        "  train_loss = train_running_loss/dataset_sizes['train']\n",
        "  train_acc = train_correct.double()/dataset_sizes['train']\n",
        "\n",
        "  # Val\n",
        "  model.eval()\n",
        "  val_running_loss = 0.0\n",
        "  val_correct = 0\n",
        "\n",
        "  with torch.no_grad():\n",
        "    for inp1, labels1 in dataloaders['val']:\n",
        "      inp1, labels1 = inp1.to(device), labels1.to(device)\n",
        "      outputs = model(inp1)\n",
        "      loss = criterion(outputs, labels1)\n",
        "\n",
        "      val_running_loss += loss.item()*inp1.size(0)\n",
        "\n",
        "      _,pred = torch.max(outputs,1)\n",
        "      val_correct += torch.sum(pred == labels1.data)\n",
        "  val_loss = val_running_loss/dataset_sizes['val']\n",
        "  val_acc = val_correct.double()/dataset_sizes['val']\n",
        "\n",
        "  print(f\"Epoch : {epoch+1}/{n_epochs} -- Train Loss : {train_loss:.4f} -- Train Acc : {train_acc:.4f} -- Val Loss : {val_loss:.4f} -- Val Acc : {val_acc:.4f}\")\n"
      ],
      "metadata": {
        "colab": {
          "base_uri": "https://localhost:8080/",
          "height": 495
        },
        "id": "Bv6RKn-CvXz8",
        "outputId": "949d2d03-9ceb-4616-8dac-1422207cebb3"
      },
      "execution_count": 66,
      "outputs": [
        {
          "output_type": "stream",
          "name": "stdout",
          "text": [
            "Epoch : 1/30 -- Train Loss : 2.7139 -- Train Acc : 0.3027 -- Val Loss : 4.0807 -- Val Acc : 0.0141\n",
            "Epoch : 2/30 -- Train Loss : 2.3955 -- Train Acc : 0.3600 -- Val Loss : 4.1379 -- Val Acc : 0.0241\n",
            "Epoch : 3/30 -- Train Loss : 2.1623 -- Train Acc : 0.4173 -- Val Loss : 4.3274 -- Val Acc : 0.0321\n",
            "Epoch : 4/30 -- Train Loss : 1.9007 -- Train Acc : 0.4694 -- Val Loss : 4.8696 -- Val Acc : 0.0361\n",
            "Epoch : 5/30 -- Train Loss : 1.6476 -- Train Acc : 0.5327 -- Val Loss : 5.1761 -- Val Acc : 0.0542\n",
            "Epoch : 6/30 -- Train Loss : 1.4257 -- Train Acc : 0.5996 -- Val Loss : 5.6198 -- Val Acc : 0.0643\n",
            "Epoch : 7/30 -- Train Loss : 1.2165 -- Train Acc : 0.6558 -- Val Loss : 5.5715 -- Val Acc : 0.0743\n",
            "Epoch : 8/30 -- Train Loss : 1.0611 -- Train Acc : 0.6937 -- Val Loss : 5.8497 -- Val Acc : 0.0823\n"
          ]
        },
        {
          "output_type": "error",
          "ename": "KeyboardInterrupt",
          "evalue": "",
          "traceback": [
            "\u001b[0;31m---------------------------------------------------------------------------\u001b[0m",
            "\u001b[0;31mKeyboardInterrupt\u001b[0m                         Traceback (most recent call last)",
            "\u001b[0;32m/tmp/ipython-input-66-1343464608.py\u001b[0m in \u001b[0;36m<cell line: 0>\u001b[0;34m()\u001b[0m\n\u001b[1;32m     26\u001b[0m \u001b[0;34m\u001b[0m\u001b[0m\n\u001b[1;32m     27\u001b[0m   \u001b[0;32mwith\u001b[0m \u001b[0mtorch\u001b[0m\u001b[0;34m.\u001b[0m\u001b[0mno_grad\u001b[0m\u001b[0;34m(\u001b[0m\u001b[0;34m)\u001b[0m\u001b[0;34m:\u001b[0m\u001b[0;34m\u001b[0m\u001b[0;34m\u001b[0m\u001b[0m\n\u001b[0;32m---> 28\u001b[0;31m     \u001b[0;32mfor\u001b[0m \u001b[0minp1\u001b[0m\u001b[0;34m,\u001b[0m \u001b[0mlabels1\u001b[0m \u001b[0;32min\u001b[0m \u001b[0mdataloaders\u001b[0m\u001b[0;34m[\u001b[0m\u001b[0;34m'val'\u001b[0m\u001b[0;34m]\u001b[0m\u001b[0;34m:\u001b[0m\u001b[0;34m\u001b[0m\u001b[0;34m\u001b[0m\u001b[0m\n\u001b[0m\u001b[1;32m     29\u001b[0m       \u001b[0minp1\u001b[0m\u001b[0;34m,\u001b[0m \u001b[0mlabels1\u001b[0m \u001b[0;34m=\u001b[0m \u001b[0minp1\u001b[0m\u001b[0;34m.\u001b[0m\u001b[0mto\u001b[0m\u001b[0;34m(\u001b[0m\u001b[0mdevice\u001b[0m\u001b[0;34m)\u001b[0m\u001b[0;34m,\u001b[0m \u001b[0mlabels1\u001b[0m\u001b[0;34m.\u001b[0m\u001b[0mto\u001b[0m\u001b[0;34m(\u001b[0m\u001b[0mdevice\u001b[0m\u001b[0;34m)\u001b[0m\u001b[0;34m\u001b[0m\u001b[0;34m\u001b[0m\u001b[0m\n\u001b[1;32m     30\u001b[0m       \u001b[0moutputs\u001b[0m \u001b[0;34m=\u001b[0m \u001b[0mmodel\u001b[0m\u001b[0;34m(\u001b[0m\u001b[0minp1\u001b[0m\u001b[0;34m)\u001b[0m\u001b[0;34m\u001b[0m\u001b[0;34m\u001b[0m\u001b[0m\n",
            "\u001b[0;32m/usr/local/lib/python3.11/dist-packages/torch/utils/data/dataloader.py\u001b[0m in \u001b[0;36m__next__\u001b[0;34m(self)\u001b[0m\n\u001b[1;32m    706\u001b[0m                 \u001b[0;31m# TODO(https://github.com/pytorch/pytorch/issues/76750)\u001b[0m\u001b[0;34m\u001b[0m\u001b[0;34m\u001b[0m\u001b[0m\n\u001b[1;32m    707\u001b[0m                 \u001b[0mself\u001b[0m\u001b[0;34m.\u001b[0m\u001b[0m_reset\u001b[0m\u001b[0;34m(\u001b[0m\u001b[0;34m)\u001b[0m  \u001b[0;31m# type: ignore[call-arg]\u001b[0m\u001b[0;34m\u001b[0m\u001b[0;34m\u001b[0m\u001b[0m\n\u001b[0;32m--> 708\u001b[0;31m             \u001b[0mdata\u001b[0m \u001b[0;34m=\u001b[0m \u001b[0mself\u001b[0m\u001b[0;34m.\u001b[0m\u001b[0m_next_data\u001b[0m\u001b[0;34m(\u001b[0m\u001b[0;34m)\u001b[0m\u001b[0;34m\u001b[0m\u001b[0;34m\u001b[0m\u001b[0m\n\u001b[0m\u001b[1;32m    709\u001b[0m             \u001b[0mself\u001b[0m\u001b[0;34m.\u001b[0m\u001b[0m_num_yielded\u001b[0m \u001b[0;34m+=\u001b[0m \u001b[0;36m1\u001b[0m\u001b[0;34m\u001b[0m\u001b[0;34m\u001b[0m\u001b[0m\n\u001b[1;32m    710\u001b[0m             if (\n",
            "\u001b[0;32m/usr/local/lib/python3.11/dist-packages/torch/utils/data/dataloader.py\u001b[0m in \u001b[0;36m_next_data\u001b[0;34m(self)\u001b[0m\n\u001b[1;32m   1444\u001b[0m                 \u001b[0;31m# no valid `self._rcvd_idx` is found (i.e., didn't break)\u001b[0m\u001b[0;34m\u001b[0m\u001b[0;34m\u001b[0m\u001b[0m\n\u001b[1;32m   1445\u001b[0m                 \u001b[0;32mif\u001b[0m \u001b[0;32mnot\u001b[0m \u001b[0mself\u001b[0m\u001b[0;34m.\u001b[0m\u001b[0m_persistent_workers\u001b[0m\u001b[0;34m:\u001b[0m\u001b[0;34m\u001b[0m\u001b[0;34m\u001b[0m\u001b[0m\n\u001b[0;32m-> 1446\u001b[0;31m                     \u001b[0mself\u001b[0m\u001b[0;34m.\u001b[0m\u001b[0m_shutdown_workers\u001b[0m\u001b[0;34m(\u001b[0m\u001b[0;34m)\u001b[0m\u001b[0;34m\u001b[0m\u001b[0;34m\u001b[0m\u001b[0m\n\u001b[0m\u001b[1;32m   1447\u001b[0m                 \u001b[0;32mraise\u001b[0m \u001b[0mStopIteration\u001b[0m\u001b[0;34m\u001b[0m\u001b[0;34m\u001b[0m\u001b[0m\n\u001b[1;32m   1448\u001b[0m \u001b[0;34m\u001b[0m\u001b[0m\n",
            "\u001b[0;32m/usr/local/lib/python3.11/dist-packages/torch/utils/data/dataloader.py\u001b[0m in \u001b[0;36m_shutdown_workers\u001b[0;34m(self)\u001b[0m\n\u001b[1;32m   1580\u001b[0m                     \u001b[0;31m# wrong, we set a timeout and if the workers fail to join,\u001b[0m\u001b[0;34m\u001b[0m\u001b[0;34m\u001b[0m\u001b[0m\n\u001b[1;32m   1581\u001b[0m                     \u001b[0;31m# they are killed in the `finally` block.\u001b[0m\u001b[0;34m\u001b[0m\u001b[0;34m\u001b[0m\u001b[0m\n\u001b[0;32m-> 1582\u001b[0;31m                     \u001b[0mw\u001b[0m\u001b[0;34m.\u001b[0m\u001b[0mjoin\u001b[0m\u001b[0;34m(\u001b[0m\u001b[0mtimeout\u001b[0m\u001b[0;34m=\u001b[0m\u001b[0m_utils\u001b[0m\u001b[0;34m.\u001b[0m\u001b[0mMP_STATUS_CHECK_INTERVAL\u001b[0m\u001b[0;34m)\u001b[0m\u001b[0;34m\u001b[0m\u001b[0;34m\u001b[0m\u001b[0m\n\u001b[0m\u001b[1;32m   1583\u001b[0m                 \u001b[0;32mfor\u001b[0m \u001b[0mq\u001b[0m \u001b[0;32min\u001b[0m \u001b[0mself\u001b[0m\u001b[0;34m.\u001b[0m\u001b[0m_index_queues\u001b[0m\u001b[0;34m:\u001b[0m\u001b[0;34m\u001b[0m\u001b[0;34m\u001b[0m\u001b[0m\n\u001b[1;32m   1584\u001b[0m                     \u001b[0mq\u001b[0m\u001b[0;34m.\u001b[0m\u001b[0mcancel_join_thread\u001b[0m\u001b[0;34m(\u001b[0m\u001b[0;34m)\u001b[0m\u001b[0;34m\u001b[0m\u001b[0;34m\u001b[0m\u001b[0m\n",
            "\u001b[0;32m/usr/lib/python3.11/multiprocessing/process.py\u001b[0m in \u001b[0;36mjoin\u001b[0;34m(self, timeout)\u001b[0m\n\u001b[1;32m    147\u001b[0m         \u001b[0;32massert\u001b[0m \u001b[0mself\u001b[0m\u001b[0;34m.\u001b[0m\u001b[0m_parent_pid\u001b[0m \u001b[0;34m==\u001b[0m \u001b[0mos\u001b[0m\u001b[0;34m.\u001b[0m\u001b[0mgetpid\u001b[0m\u001b[0;34m(\u001b[0m\u001b[0;34m)\u001b[0m\u001b[0;34m,\u001b[0m \u001b[0;34m'can only join a child process'\u001b[0m\u001b[0;34m\u001b[0m\u001b[0;34m\u001b[0m\u001b[0m\n\u001b[1;32m    148\u001b[0m         \u001b[0;32massert\u001b[0m \u001b[0mself\u001b[0m\u001b[0;34m.\u001b[0m\u001b[0m_popen\u001b[0m \u001b[0;32mis\u001b[0m \u001b[0;32mnot\u001b[0m \u001b[0;32mNone\u001b[0m\u001b[0;34m,\u001b[0m \u001b[0;34m'can only join a started process'\u001b[0m\u001b[0;34m\u001b[0m\u001b[0;34m\u001b[0m\u001b[0m\n\u001b[0;32m--> 149\u001b[0;31m         \u001b[0mres\u001b[0m \u001b[0;34m=\u001b[0m \u001b[0mself\u001b[0m\u001b[0;34m.\u001b[0m\u001b[0m_popen\u001b[0m\u001b[0;34m.\u001b[0m\u001b[0mwait\u001b[0m\u001b[0;34m(\u001b[0m\u001b[0mtimeout\u001b[0m\u001b[0;34m)\u001b[0m\u001b[0;34m\u001b[0m\u001b[0;34m\u001b[0m\u001b[0m\n\u001b[0m\u001b[1;32m    150\u001b[0m         \u001b[0;32mif\u001b[0m \u001b[0mres\u001b[0m \u001b[0;32mis\u001b[0m \u001b[0;32mnot\u001b[0m \u001b[0;32mNone\u001b[0m\u001b[0;34m:\u001b[0m\u001b[0;34m\u001b[0m\u001b[0;34m\u001b[0m\u001b[0m\n\u001b[1;32m    151\u001b[0m             \u001b[0m_children\u001b[0m\u001b[0;34m.\u001b[0m\u001b[0mdiscard\u001b[0m\u001b[0;34m(\u001b[0m\u001b[0mself\u001b[0m\u001b[0;34m)\u001b[0m\u001b[0;34m\u001b[0m\u001b[0;34m\u001b[0m\u001b[0m\n",
            "\u001b[0;32m/usr/lib/python3.11/multiprocessing/popen_fork.py\u001b[0m in \u001b[0;36mwait\u001b[0;34m(self, timeout)\u001b[0m\n\u001b[1;32m     38\u001b[0m             \u001b[0;32mif\u001b[0m \u001b[0mtimeout\u001b[0m \u001b[0;32mis\u001b[0m \u001b[0;32mnot\u001b[0m \u001b[0;32mNone\u001b[0m\u001b[0;34m:\u001b[0m\u001b[0;34m\u001b[0m\u001b[0;34m\u001b[0m\u001b[0m\n\u001b[1;32m     39\u001b[0m                 \u001b[0;32mfrom\u001b[0m \u001b[0mmultiprocessing\u001b[0m\u001b[0;34m.\u001b[0m\u001b[0mconnection\u001b[0m \u001b[0;32mimport\u001b[0m \u001b[0mwait\u001b[0m\u001b[0;34m\u001b[0m\u001b[0;34m\u001b[0m\u001b[0m\n\u001b[0;32m---> 40\u001b[0;31m                 \u001b[0;32mif\u001b[0m \u001b[0;32mnot\u001b[0m \u001b[0mwait\u001b[0m\u001b[0;34m(\u001b[0m\u001b[0;34m[\u001b[0m\u001b[0mself\u001b[0m\u001b[0;34m.\u001b[0m\u001b[0msentinel\u001b[0m\u001b[0;34m]\u001b[0m\u001b[0;34m,\u001b[0m \u001b[0mtimeout\u001b[0m\u001b[0;34m)\u001b[0m\u001b[0;34m:\u001b[0m\u001b[0;34m\u001b[0m\u001b[0;34m\u001b[0m\u001b[0m\n\u001b[0m\u001b[1;32m     41\u001b[0m                     \u001b[0;32mreturn\u001b[0m \u001b[0;32mNone\u001b[0m\u001b[0;34m\u001b[0m\u001b[0;34m\u001b[0m\u001b[0m\n\u001b[1;32m     42\u001b[0m             \u001b[0;31m# This shouldn't block if wait() returned successfully.\u001b[0m\u001b[0;34m\u001b[0m\u001b[0;34m\u001b[0m\u001b[0m\n",
            "\u001b[0;32m/usr/lib/python3.11/multiprocessing/connection.py\u001b[0m in \u001b[0;36mwait\u001b[0;34m(object_list, timeout)\u001b[0m\n\u001b[1;32m    946\u001b[0m \u001b[0;34m\u001b[0m\u001b[0m\n\u001b[1;32m    947\u001b[0m             \u001b[0;32mwhile\u001b[0m \u001b[0;32mTrue\u001b[0m\u001b[0;34m:\u001b[0m\u001b[0;34m\u001b[0m\u001b[0;34m\u001b[0m\u001b[0m\n\u001b[0;32m--> 948\u001b[0;31m                 \u001b[0mready\u001b[0m \u001b[0;34m=\u001b[0m \u001b[0mselector\u001b[0m\u001b[0;34m.\u001b[0m\u001b[0mselect\u001b[0m\u001b[0;34m(\u001b[0m\u001b[0mtimeout\u001b[0m\u001b[0;34m)\u001b[0m\u001b[0;34m\u001b[0m\u001b[0;34m\u001b[0m\u001b[0m\n\u001b[0m\u001b[1;32m    949\u001b[0m                 \u001b[0;32mif\u001b[0m \u001b[0mready\u001b[0m\u001b[0;34m:\u001b[0m\u001b[0;34m\u001b[0m\u001b[0;34m\u001b[0m\u001b[0m\n\u001b[1;32m    950\u001b[0m                     \u001b[0;32mreturn\u001b[0m \u001b[0;34m[\u001b[0m\u001b[0mkey\u001b[0m\u001b[0;34m.\u001b[0m\u001b[0mfileobj\u001b[0m \u001b[0;32mfor\u001b[0m \u001b[0;34m(\u001b[0m\u001b[0mkey\u001b[0m\u001b[0;34m,\u001b[0m \u001b[0mevents\u001b[0m\u001b[0;34m)\u001b[0m \u001b[0;32min\u001b[0m \u001b[0mready\u001b[0m\u001b[0;34m]\u001b[0m\u001b[0;34m\u001b[0m\u001b[0;34m\u001b[0m\u001b[0m\n",
            "\u001b[0;32m/usr/lib/python3.11/selectors.py\u001b[0m in \u001b[0;36mselect\u001b[0;34m(self, timeout)\u001b[0m\n\u001b[1;32m    413\u001b[0m         \u001b[0mready\u001b[0m \u001b[0;34m=\u001b[0m \u001b[0;34m[\u001b[0m\u001b[0;34m]\u001b[0m\u001b[0;34m\u001b[0m\u001b[0;34m\u001b[0m\u001b[0m\n\u001b[1;32m    414\u001b[0m         \u001b[0;32mtry\u001b[0m\u001b[0;34m:\u001b[0m\u001b[0;34m\u001b[0m\u001b[0;34m\u001b[0m\u001b[0m\n\u001b[0;32m--> 415\u001b[0;31m             \u001b[0mfd_event_list\u001b[0m \u001b[0;34m=\u001b[0m \u001b[0mself\u001b[0m\u001b[0;34m.\u001b[0m\u001b[0m_selector\u001b[0m\u001b[0;34m.\u001b[0m\u001b[0mpoll\u001b[0m\u001b[0;34m(\u001b[0m\u001b[0mtimeout\u001b[0m\u001b[0;34m)\u001b[0m\u001b[0;34m\u001b[0m\u001b[0;34m\u001b[0m\u001b[0m\n\u001b[0m\u001b[1;32m    416\u001b[0m         \u001b[0;32mexcept\u001b[0m \u001b[0mInterruptedError\u001b[0m\u001b[0;34m:\u001b[0m\u001b[0;34m\u001b[0m\u001b[0;34m\u001b[0m\u001b[0m\n\u001b[1;32m    417\u001b[0m             \u001b[0;32mreturn\u001b[0m \u001b[0mready\u001b[0m\u001b[0;34m\u001b[0m\u001b[0;34m\u001b[0m\u001b[0m\n",
            "\u001b[0;31mKeyboardInterrupt\u001b[0m: "
          ]
        }
      ]
    },
    {
      "cell_type": "markdown",
      "source": [
        "### Simple CNN conclusion:\n",
        "Even though various augmentation and regularization methods tried on SimpleCNN, The results didn't turn out good.\n",
        "\n",
        "As we can see in the last execution,\n",
        "\n",
        "Even though the training Accuracy started to improve, the Validation loss started to go up, This explains that the data is too complex for the model and the model started to memorize the data instead of understanding.\n",
        "\n",
        "So the training has been stoped to save computing resources"
      ],
      "metadata": {
        "id": "w6-MhCZhTsLL"
      }
    },
    {
      "cell_type": "markdown",
      "source": [
        "## Model Deployment (using Pre trained MobileNetV3-small)"
      ],
      "metadata": {
        "id": "8HbW8NxPRKkt"
      }
    },
    {
      "cell_type": "code",
      "source": [
        "import torch\n",
        "import torch.nn as nn\n",
        "from torchvision import datasets, transforms, models\n",
        "from torch.utils.data import DataLoader\n",
        "from torch.optim.lr_scheduler import StepLR\n",
        "import matplotlib.pyplot as plt\n",
        "import time\n",
        "import copy\n",
        "import os"
      ],
      "metadata": {
        "id": "IKUg31IwSPMW"
      },
      "execution_count": 88,
      "outputs": []
    },
    {
      "cell_type": "code",
      "source": [
        "data_transforms = {\n",
        "    'train' : transforms.Compose([\n",
        "        transforms.Resize((224,224)),\n",
        "        transforms.transforms.RandomHorizontalFlip(),\n",
        "        transforms.ToTensor(),\n",
        "        transforms.Normalize([0.485,0.456,0.406], [0.229,0.224,0.225])\n",
        "    ]),\n",
        "    'val' : transforms.Compose([\n",
        "        transforms.Resize((224,224)),\n",
        "        transforms.ToTensor(),\n",
        "        transforms.Normalize([0.485,0.456,0.406], [0.229,0.224,0.225])\n",
        "    ]),\n",
        "    'test' : transforms.Compose([\n",
        "        transforms.Resize((224,224)),\n",
        "        transforms.ToTensor(),\n",
        "        transforms.Normalize([0.485,0.456,0.406], [0.229,0.224,0.225])\n",
        "    ])\n",
        "}"
      ],
      "metadata": {
        "id": "NFS_k4V_RTxW"
      },
      "execution_count": 68,
      "outputs": []
    },
    {
      "cell_type": "code",
      "source": [
        "image_datasets = {\n",
        "    'train': datasets.ImageFolder(root=f\"{final_data_path}/train/\", transform=data_transforms['train']),\n",
        "    'val': datasets.ImageFolder(root=f\"{final_data_path}/val\", transform=data_transforms['val']),\n",
        "    'test': datasets.ImageFolder(root=f\"{final_data_path}/test\", transform=data_transforms['test'])\n",
        "}\n",
        "\n",
        "dataloaders = {\n",
        "    x: DataLoader(image_datasets[x], batch_size=256, shuffle=(x == 'train'), num_workers=2, pin_memory=True)\n",
        "    for x in ['train', 'val', 'test']\n",
        "}\n",
        "\n",
        "dataset_sizes = {x: len(image_datasets[x]) for x in ['train', 'val', 'test']}\n",
        "class_names = image_datasets['train'].classes"
      ],
      "metadata": {
        "id": "Itjzlvx9SWnf"
      },
      "execution_count": 90,
      "outputs": []
    },
    {
      "cell_type": "code",
      "source": [
        "device = torch.device(\"cuda\" if torch.cuda.is_available() else \"cpu\")\n",
        "print(\"Device:\", device)"
      ],
      "metadata": {
        "colab": {
          "base_uri": "https://localhost:8080/"
        },
        "id": "JTdaT75ucjew",
        "outputId": "d88b2464-e5f7-4358-b6e0-9288647267c5"
      },
      "execution_count": 89,
      "outputs": [
        {
          "output_type": "stream",
          "name": "stdout",
          "text": [
            "Device: cuda\n"
          ]
        }
      ]
    },
    {
      "cell_type": "markdown",
      "source": [
        "### MobileNetV3"
      ],
      "metadata": {
        "id": "U4ewNNcnSgXu"
      }
    },
    {
      "cell_type": "code",
      "source": [
        "weights = models.MobileNet_V3_Small_Weights.DEFAULT\n",
        "mobilenet = models.mobilenet_v3_small(weights=weights)\n",
        "\n",
        "for param in mobilenet.parameters():\n",
        "    param.requires_grad = True\n",
        "\n",
        "mobilenet.classifier = nn.Sequential(\n",
        "    nn.Linear(mobilenet.classifier[0].in_features, 128),\n",
        "    nn.ReLU(),\n",
        "    nn.BatchNorm1d(128),\n",
        "    nn.Linear(128, len(class_names))\n",
        ")\n",
        "\n",
        "model = mobilenet.to(device)\n"
      ],
      "metadata": {
        "id": "2ipn1BPCSe_X"
      },
      "execution_count": 92,
      "outputs": []
    },
    {
      "cell_type": "code",
      "source": [
        "criterion = nn.CrossEntropyLoss()\n",
        "optimizer = torch.optim.Adam(model.parameters(), lr=1e-4, weight_decay = 1e-4)\n",
        "scheduler = StepLR(optimizer, step_size=5, gamma=0.1)\n",
        "\n",
        "best_model_wts = copy.deepcopy(model.state_dict())\n",
        "best_acc = 0.0\n",
        "\n",
        "train_loss_history = []\n",
        "val_loss_history = []\n",
        "train_acc_history = []\n",
        "val_acc_history = []\n",
        "\n",
        "n_epochs = 15\n",
        "since = time.time()"
      ],
      "metadata": {
        "id": "6KbdN7f4TeJ2"
      },
      "execution_count": 93,
      "outputs": []
    },
    {
      "cell_type": "code",
      "source": [
        "for epoch in range(n_epochs):\n",
        "    print(f'\\nEpoch {epoch+1}/{n_epochs}')\n",
        "    print('-' * 30)\n",
        "\n",
        "    # Training\n",
        "    model.train()\n",
        "    running_loss = 0.0\n",
        "    running_corrects = 0\n",
        "\n",
        "    for inputs, labels in dataloaders['train']:\n",
        "        inputs, labels = inputs.to(device), labels.to(device)\n",
        "        optimizer.zero_grad()\n",
        "\n",
        "        outputs = model(inputs)\n",
        "        loss = criterion(outputs, labels)\n",
        "        loss.backward()\n",
        "        optimizer.step()\n",
        "\n",
        "        _, preds = torch.max(outputs, 1)\n",
        "        running_loss += loss.item() * inputs.size(0)\n",
        "        running_corrects += torch.sum(preds == labels.data)\n",
        "\n",
        "    epoch_train_loss = running_loss / dataset_sizes['train']\n",
        "    epoch_train_acc = running_corrects.double() / dataset_sizes['train']\n",
        "    train_loss_history.append(epoch_train_loss)\n",
        "    train_acc_history.append(epoch_train_acc.item())\n",
        "\n",
        "    # Val\n",
        "    model.eval()\n",
        "    val_loss = 0.0\n",
        "    val_corrects = 0\n",
        "\n",
        "    with torch.no_grad():\n",
        "        for inputs, labels in dataloaders['val']:\n",
        "            inputs, labels = inputs.to(device), labels.to(device)\n",
        "            outputs = model(inputs)\n",
        "            loss = criterion(outputs, labels)\n",
        "\n",
        "            _, preds = torch.max(outputs, 1)\n",
        "            val_loss += loss.item() * inputs.size(0)\n",
        "            val_corrects += torch.sum(preds == labels.data)\n",
        "\n",
        "    epoch_val_loss = val_loss / dataset_sizes['val']\n",
        "    epoch_val_acc = val_corrects.double() / dataset_sizes['val']\n",
        "    val_loss_history.append(epoch_val_loss)\n",
        "    val_acc_history.append(epoch_val_acc.item())\n",
        "\n",
        "    print(f\"Train Loss: {epoch_train_loss:.4f} Acc: {epoch_train_acc:.4f}\")\n",
        "    print(f\"Val   Loss: {epoch_val_loss:.4f} Acc: {epoch_val_acc:.4f}\")\n",
        "\n",
        "    if epoch_val_acc > best_acc:\n",
        "        best_acc = epoch_val_acc\n",
        "        best_model_wts = copy.deepcopy(model.state_dict())\n",
        "\n",
        "    scheduler.step()\n",
        "\n",
        "time_elapsed = time.time() - since\n",
        "print(f'\\nTraining complete in {time_elapsed // 60:.0f}m {time_elapsed % 60:.0f}s')\n",
        "print(f'Best val Acc: {best_acc:.4f}')\n",
        "\n",
        "# Load best model\n",
        "model.load_state_dict(best_model_wts)\n",
        "\n",
        "\n",
        "# Testing the model\n",
        "model.eval()\n",
        "test_loss = 0.0\n",
        "test_corrects = 0\n",
        "\n",
        "with torch.no_grad():\n",
        "    for inputs, labels in dataloaders['test']:\n",
        "        inputs, labels = inputs.to(device), labels.to(device)\n",
        "        outputs = model(inputs)\n",
        "        loss = criterion(outputs, labels)\n",
        "        _, preds = torch.max(outputs, 1)\n",
        "        test_loss += loss.item() * inputs.size(0)\n",
        "        test_corrects += torch.sum(preds == labels.data)\n",
        "\n",
        "test_loss /= dataset_sizes['test']\n",
        "test_acc = test_corrects.double() / dataset_sizes['test']\n",
        "print(f\"\\nTest Loss: {test_loss:.4f}, Test Accuracy: {test_acc:.4f}\")\n"
      ],
      "metadata": {
        "colab": {
          "base_uri": "https://localhost:8080/"
        },
        "id": "baBbuqaTdlmM",
        "outputId": "e9de46e0-c673-4462-c0c8-167929328504"
      },
      "execution_count": 94,
      "outputs": [
        {
          "output_type": "stream",
          "name": "stdout",
          "text": [
            "\n",
            "Epoch 1/15\n",
            "------------------------------\n",
            "Train Loss: 3.5830 Acc: 0.0681\n",
            "Val   Loss: 3.6890 Acc: 0.0060\n",
            "\n",
            "Epoch 2/15\n",
            "------------------------------\n",
            "Train Loss: 3.3065 Acc: 0.1830\n",
            "Val   Loss: 3.7709 Acc: 0.0060\n",
            "\n",
            "Epoch 3/15\n",
            "------------------------------\n",
            "Train Loss: 3.0659 Acc: 0.2965\n",
            "Val   Loss: 3.8311 Acc: 0.0060\n",
            "\n",
            "Epoch 4/15\n",
            "------------------------------\n",
            "Train Loss: 2.8379 Acc: 0.3796\n",
            "Val   Loss: 3.9457 Acc: 0.0181\n",
            "\n",
            "Epoch 5/15\n",
            "------------------------------\n",
            "Train Loss: 2.6161 Acc: 0.4379\n",
            "Val   Loss: 3.9975 Acc: 0.0221\n",
            "\n",
            "Epoch 6/15\n",
            "------------------------------\n",
            "Train Loss: 2.4963 Acc: 0.4785\n",
            "Val   Loss: 4.0332 Acc: 0.0161\n",
            "\n",
            "Epoch 7/15\n",
            "------------------------------\n",
            "Train Loss: 2.4689 Acc: 0.4892\n",
            "Val   Loss: 4.0611 Acc: 0.0181\n",
            "\n",
            "Epoch 8/15\n",
            "------------------------------\n",
            "Train Loss: 2.4503 Acc: 0.4869\n",
            "Val   Loss: 4.0509 Acc: 0.0201\n",
            "\n",
            "Epoch 9/15\n",
            "------------------------------\n",
            "Train Loss: 2.4348 Acc: 0.4926\n",
            "Val   Loss: 4.0582 Acc: 0.0181\n",
            "\n",
            "Epoch 10/15\n",
            "------------------------------\n",
            "Train Loss: 2.4136 Acc: 0.5000\n",
            "Val   Loss: 4.0526 Acc: 0.0221\n",
            "\n",
            "Epoch 11/15\n",
            "------------------------------\n",
            "Train Loss: 2.4002 Acc: 0.5053\n",
            "Val   Loss: 4.0425 Acc: 0.0161\n",
            "\n",
            "Epoch 12/15\n",
            "------------------------------\n",
            "Train Loss: 2.3995 Acc: 0.5096\n",
            "Val   Loss: 4.0285 Acc: 0.0201\n",
            "\n",
            "Epoch 13/15\n",
            "------------------------------\n",
            "Train Loss: 2.3941 Acc: 0.5055\n",
            "Val   Loss: 4.0648 Acc: 0.0201\n",
            "\n",
            "Epoch 14/15\n",
            "------------------------------\n",
            "Train Loss: 2.3897 Acc: 0.5065\n",
            "Val   Loss: 4.0645 Acc: 0.0221\n",
            "\n",
            "Epoch 15/15\n",
            "------------------------------\n",
            "Train Loss: 2.3875 Acc: 0.5038\n",
            "Val   Loss: 4.0719 Acc: 0.0221\n",
            "\n",
            "Training complete in 7m 15s\n",
            "Best val Acc: 0.0221\n",
            "\n",
            "Test Loss: 3.9405, Test Accuracy: 0.0248\n"
          ]
        }
      ]
    },
    {
      "cell_type": "code",
      "source": [
        "plt.figure(figsize=(12, 5))\n",
        "\n",
        "plt.subplot(1, 2, 1)\n",
        "plt.plot(train_loss_history, label=\"Train Loss\")\n",
        "plt.plot(val_loss_history, label=\"Val Loss\")\n",
        "plt.title(\"Loss over Epochs\")\n",
        "plt.xlabel(\"Epoch\")\n",
        "plt.ylabel(\"Loss\")\n",
        "plt.legend()\n",
        "\n",
        "plt.subplot(1, 2, 2)\n",
        "plt.plot(train_acc_history, label=\"Train Acc\")\n",
        "plt.plot(val_acc_history, label=\"Val Acc\")\n",
        "plt.title(\"Accuracy over Epochs\")\n",
        "plt.xlabel(\"Epoch\")\n",
        "plt.ylabel(\"Accuracy\")\n",
        "plt.legend()\n",
        "\n",
        "plt.tight_layout()\n",
        "plt.show()"
      ],
      "metadata": {
        "colab": {
          "base_uri": "https://localhost:8080/",
          "height": 392
        },
        "id": "WuvVT22Pdp70",
        "outputId": "0c39c6dc-5b42-4deb-b0da-1d2da919d170"
      },
      "execution_count": 95,
      "outputs": [
        {
          "output_type": "display_data",
          "data": {
            "text/plain": [
              "<Figure size 1200x500 with 2 Axes>"
            ],
            "image/png": "[encoded data removed]"
          },
          "metadata": {}
        }
      ]
    },
    {
      "cell_type": "markdown",
      "source": [
        "### MobileNetV3 Conclusion:\n",
        "\n",
        "I would say the model performed worse than I expected compared to SimpleCNN. The validation and test accuracy reflects the fact that the data is too noisy and irrelevant to each other within the classes.\n",
        "\n",
        "For the future I would say it will be better to use a YOLO based labeled dataset, for these kind of purpose."
      ],
      "metadata": {
        "id": "O8bTU1rLW5M3"
      }
    }
  ]
}